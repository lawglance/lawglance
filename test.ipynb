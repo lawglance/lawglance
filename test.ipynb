{
 "cells": [
  {
   "cell_type": "code",
   "execution_count": 6,
   "id": "d6daf0d0",
   "metadata": {},
   "outputs": [],
   "source": [
    "import os\n",
    "import streamlit as st\n",
    "import random\n",
    "import time\n",
    "import base64\n",
    "from lawglance_main import Lawglance\n",
    "from langchain_openai import ChatOpenAI, OpenAIEmbeddings\n",
    "from langchain_chroma import Chroma\n",
    "from langchain_core.prompts import ChatPromptTemplate, MessagesPlaceholder\n",
    "from dotenv import load_dotenv\n",
    "from langchain.schema import HumanMessage\n",
    "import uuid"
   ]
  },
  {
   "cell_type": "code",
   "execution_count": 13,
   "id": "d3d3f329",
   "metadata": {},
   "outputs": [],
   "source": [
    "load_dotenv(override=True)\n",
    "\n",
    "#random thread id for session\n",
    "id = uuid.uuid4()\n",
    "thread_id = str(id)\n",
    "\n",
    "# Load API key\n",
    "openai_api_key = os.getenv('OPENAI_API_KEY')\n",
    "#Defining the Language Model\n",
    "llm = ChatOpenAI(model  = 'gpt-4o-mini' ,temperature = 0.9, openai_api_key = openai_api_key)\n",
    "\n",
    "#Defining the Embeddings\n",
    "embeddings = OpenAIEmbeddings()\n",
    "\n",
    "#Defining the vector store\n",
    "vector_store = Chroma(persist_directory=\"chroma_db_legal_bot_part1\", embedding_function=embeddings)\n",
    "\n",
    "#Creating the instance of the class Lawglance\n",
    "law = Lawglance(llm, embeddings, vector_store)"
   ]
  },
  {
   "cell_type": "code",
   "execution_count": 14,
   "id": "06621808",
   "metadata": {},
   "outputs": [],
   "source": [
    "query=\"WHat is rule of Law?\""
   ]
  },
  {
   "cell_type": "code",
   "execution_count": 15,
   "id": "6d4ed491",
   "metadata": {},
   "outputs": [],
   "source": [
    "chat_history=None"
   ]
  },
  {
   "cell_type": "code",
   "execution_count": 16,
   "id": "f5f15860",
   "metadata": {},
   "outputs": [
    {
     "name": "stderr",
     "output_type": "stream",
     "text": [
      "2025-08-08 09:07:43,028 INFO Cache miss for key: llm_cache:081b37fa881a76129e56ce200ded11b0039eb4187032d4a0091a5640493cb51e. Generating new answer.\n",
      "2025-08-08 09:07:47,588 INFO HTTP Request: POST https://api.openai.com/v1/embeddings \"HTTP/1.1 200 OK\"\n",
      "2025-08-08 09:07:53,569 INFO HTTP Request: POST https://api.openai.com/v1/chat/completions \"HTTP/1.1 200 OK\"\n"
     ]
    }
   ],
   "source": [
    "result = law.conversational(query, thread_id, chat_history=chat_history)"
   ]
  },
  {
   "cell_type": "code",
   "execution_count": 18,
   "id": "e20d9f4e",
   "metadata": {},
   "outputs": [
    {
     "name": "stdout",
     "output_type": "stream",
     "text": [
      "The \"rule of law\" is a foundational principle that emphasizes that law should govern a nation, as opposed to being governed by arbitrary decisions of individual government officials. It ensures that all individuals and institutions, including the government itself, are accountable under the law, and that laws are applied equally and impartially.\n",
      "\n",
      "In the context of the Indian Constitution, the rule of law is embodied in various articles such as Article 141, which states that the law declared by the Supreme Court is binding on all courts within India, thereby ensuring legal uniformity and accountability. Moreover, Article 142 allows the Supreme Court to pass decrees and orders necessary for doing complete justice, reinforcing the authority of law in governing judicial processes.\n",
      "\n",
      "While the provided context does not explicitly define the rule of law, references to the obligations and powers of the Supreme Court suggest its role in upholding this principle within the Indian legal framework.\n"
     ]
    }
   ],
   "source": [
    "print(result)"
   ]
  },
  {
   "cell_type": "code",
   "execution_count": 19,
   "id": "f8523dc6",
   "metadata": {},
   "outputs": [
    {
     "ename": "TypeError",
     "evalue": "Lawglance.get_session_history() missing 1 required positional argument: 'session_id'",
     "output_type": "error",
     "traceback": [
      "\u001b[31m---------------------------------------------------------------------------\u001b[39m",
      "\u001b[31mTypeError\u001b[39m                                 Traceback (most recent call last)",
      "\u001b[36mCell\u001b[39m\u001b[36m \u001b[39m\u001b[32mIn[19]\u001b[39m\u001b[32m, line 1\u001b[39m\n\u001b[32m----> \u001b[39m\u001b[32m1\u001b[39m \u001b[43mlaw\u001b[49m\u001b[43m.\u001b[49m\u001b[43mget_session_history\u001b[49m\u001b[43m(\u001b[49m\u001b[43m)\u001b[49m\n",
      "\u001b[31mTypeError\u001b[39m: Lawglance.get_session_history() missing 1 required positional argument: 'session_id'"
     ]
    }
   ],
   "source": [
    "law.get_session_history()"
   ]
  },
  {
   "cell_type": "code",
   "execution_count": null,
   "id": "6b87a574",
   "metadata": {},
   "outputs": [],
   "source": []
  }
 ],
 "metadata": {
  "kernelspec": {
   "display_name": "lawglance",
   "language": "python",
   "name": "python3"
  },
  "language_info": {
   "codemirror_mode": {
    "name": "ipython",
    "version": 3
   },
   "file_extension": ".py",
   "mimetype": "text/x-python",
   "name": "python",
   "nbconvert_exporter": "python",
   "pygments_lexer": "ipython3",
   "version": "3.11.13"
  }
 },
 "nbformat": 4,
 "nbformat_minor": 5
}
